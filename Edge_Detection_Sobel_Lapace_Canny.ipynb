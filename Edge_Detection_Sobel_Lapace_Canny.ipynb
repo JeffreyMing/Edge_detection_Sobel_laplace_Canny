{
 "cells": [
  {
   "cell_type": "code",
   "execution_count": 25,
   "metadata": {},
   "outputs": [],
   "source": [
    "import matplotlib.image as mping\n",
    "import matplotlib.pyplot as plt\n",
    "import numpy as np\n",
    "import cv2"
   ]
  },
  {
   "cell_type": "code",
   "execution_count": 26,
   "metadata": {},
   "outputs": [
    {
     "data": {
      "text/plain": [
       "(352, 600, 3)"
      ]
     },
     "execution_count": 26,
     "metadata": {},
     "output_type": "execute_result"
    }
   ],
   "source": [
    "image =cv2.imread('road.jpg')\n",
    "\n",
    "cv2.imshow('Road', image)\n",
    "\n",
    "image.shape"
   ]
  },
  {
   "cell_type": "code",
   "execution_count": 27,
   "metadata": {},
   "outputs": [],
   "source": [
    "gray_img = cv2.cvtColor(image, cv2.COLOR_BGR2GRAY)\n",
    "cv2.imshow('Gray image', gray_img)\n"
   ]
  },
  {
   "cell_type": "code",
   "execution_count": 28,
   "metadata": {},
   "outputs": [],
   "source": [
    "#Sobel Operation\n",
    "x_sobel = cv2.Sobel(gray_img, cv2.CV_32F, 0, 1, ksize = 7)\n",
    "cv2.imshow('Sobel x direction', x_sobel)\n",
    "\n",
    "y_sobel = cv2.Sobel(gray_img, cv2.CV_32F, 1, 0, ksize = 7)\n",
    "cv2.imshow('Soble y direction', y_sobel)"
   ]
  },
  {
   "cell_type": "code",
   "execution_count": 29,
   "metadata": {},
   "outputs": [],
   "source": [
    "#Laplacian operation\n",
    "laplacian_img = cv2.Laplacian(gray_img, cv2.CV_32F, ksize = 3)\n",
    "cv2.imshow('Laplacian', laplacian_img)\n"
   ]
  },
  {
   "cell_type": "code",
   "execution_count": 30,
   "metadata": {},
   "outputs": [],
   "source": [
    "#Canny Operation\n",
    "\n",
    "threshold_1 = 120\n",
    "threshold_2 = 200\n",
    "\n",
    "Canny_img = cv2.Canny(gray_img,threshold_1, threshold_2)\n",
    "cv2.imshow('Canny image', Canny_img)\n",
    "\n",
    "cv2.waitKey()\n",
    "cv2.destroyAllWindows()"
   ]
  },
  {
   "cell_type": "code",
   "execution_count": null,
   "metadata": {},
   "outputs": [],
   "source": []
  }
 ],
 "metadata": {
  "kernelspec": {
   "display_name": "Python 3",
   "language": "python",
   "name": "python3"
  },
  "language_info": {
   "codemirror_mode": {
    "name": "ipython",
    "version": 3
   },
   "file_extension": ".py",
   "mimetype": "text/x-python",
   "name": "python",
   "nbconvert_exporter": "python",
   "pygments_lexer": "ipython3",
   "version": "3.6.4"
  }
 },
 "nbformat": 4,
 "nbformat_minor": 2
}
